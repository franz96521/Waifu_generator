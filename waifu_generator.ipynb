{
  "cells": [
    {
      "cell_type": "code",
      "execution_count": 11,
      "metadata": {},
      "outputs": [
        {
          "name": "stdout",
          "output_type": "stream",
          "text": [
            "Requirement already satisfied: ipywidgets in c:\\users\\franz\\.conda\\envs\\tf-gpu\\lib\\site-packages (7.6.5)\n",
            "Requirement already satisfied: ipython>=4.0.0 in c:\\users\\franz\\.conda\\envs\\tf-gpu\\lib\\site-packages (from ipywidgets) (8.0.1)\n",
            "Requirement already satisfied: nbformat>=4.2.0 in c:\\users\\franz\\.conda\\envs\\tf-gpu\\lib\\site-packages (from ipywidgets) (5.1.3)\n",
            "Requirement already satisfied: jupyterlab-widgets>=1.0.0 in c:\\users\\franz\\.conda\\envs\\tf-gpu\\lib\\site-packages (from ipywidgets) (1.0.2)\n",
            "Requirement already satisfied: widgetsnbextension~=3.5.0 in c:\\users\\franz\\.conda\\envs\\tf-gpu\\lib\\site-packages (from ipywidgets) (3.5.2)\n",
            "Requirement already satisfied: ipykernel>=4.5.1 in c:\\users\\franz\\.conda\\envs\\tf-gpu\\lib\\site-packages (from ipywidgets) (6.7.0)\n",
            "Requirement already satisfied: traitlets>=4.3.1 in c:\\users\\franz\\.conda\\envs\\tf-gpu\\lib\\site-packages (from ipywidgets) (5.1.1)\n",
            "Requirement already satisfied: ipython-genutils~=0.2.0 in c:\\users\\franz\\.conda\\envs\\tf-gpu\\lib\\site-packages (from ipywidgets) (0.2.0)\n",
            "Requirement already satisfied: jupyter-client<8.0 in c:\\users\\franz\\.conda\\envs\\tf-gpu\\lib\\site-packages (from ipykernel>=4.5.1->ipywidgets) (7.1.2)\n",
            "Requirement already satisfied: tornado<7.0,>=4.2 in c:\\users\\franz\\.conda\\envs\\tf-gpu\\lib\\site-packages (from ipykernel>=4.5.1->ipywidgets) (6.1)\n",
            "Requirement already satisfied: nest-asyncio in c:\\users\\franz\\.conda\\envs\\tf-gpu\\lib\\site-packages (from ipykernel>=4.5.1->ipywidgets) (1.5.4)\n",
            "Requirement already satisfied: matplotlib-inline<0.2.0,>=0.1.0 in c:\\users\\franz\\.conda\\envs\\tf-gpu\\lib\\site-packages (from ipykernel>=4.5.1->ipywidgets) (0.1.3)\n",
            "Requirement already satisfied: debugpy<2.0,>=1.0.0 in c:\\users\\franz\\.conda\\envs\\tf-gpu\\lib\\site-packages (from ipykernel>=4.5.1->ipywidgets) (1.5.1)\n",
            "Requirement already satisfied: decorator in c:\\users\\franz\\.conda\\envs\\tf-gpu\\lib\\site-packages (from ipython>=4.0.0->ipywidgets) (5.1.1)\n",
            "Requirement already satisfied: jedi>=0.16 in c:\\users\\franz\\.conda\\envs\\tf-gpu\\lib\\site-packages (from ipython>=4.0.0->ipywidgets) (0.18.1)\n",
            "Requirement already satisfied: stack-data in c:\\users\\franz\\.conda\\envs\\tf-gpu\\lib\\site-packages (from ipython>=4.0.0->ipywidgets) (0.1.4)\n",
            "Requirement already satisfied: backcall in c:\\users\\franz\\.conda\\envs\\tf-gpu\\lib\\site-packages (from ipython>=4.0.0->ipywidgets) (0.2.0)\n",
            "Requirement already satisfied: colorama in c:\\users\\franz\\.conda\\envs\\tf-gpu\\lib\\site-packages (from ipython>=4.0.0->ipywidgets) (0.4.4)\n",
            "Requirement already satisfied: setuptools>=18.5 in c:\\users\\franz\\.conda\\envs\\tf-gpu\\lib\\site-packages (from ipython>=4.0.0->ipywidgets) (58.0.4)\n",
            "Requirement already satisfied: pygments in c:\\users\\franz\\.conda\\envs\\tf-gpu\\lib\\site-packages (from ipython>=4.0.0->ipywidgets) (2.11.2)\n",
            "Requirement already satisfied: pickleshare in c:\\users\\franz\\.conda\\envs\\tf-gpu\\lib\\site-packages (from ipython>=4.0.0->ipywidgets) (0.7.5)\n",
            "Requirement already satisfied: black in c:\\users\\franz\\.conda\\envs\\tf-gpu\\lib\\site-packages (from ipython>=4.0.0->ipywidgets) (21.12b0)\n",
            "Requirement already satisfied: prompt-toolkit!=3.0.0,!=3.0.1,<3.1.0,>=2.0.0 in c:\\users\\franz\\.conda\\envs\\tf-gpu\\lib\\site-packages (from ipython>=4.0.0->ipywidgets) (3.0.24)\n",
            "Requirement already satisfied: parso<0.9.0,>=0.8.0 in c:\\users\\franz\\.conda\\envs\\tf-gpu\\lib\\site-packages (from jedi>=0.16->ipython>=4.0.0->ipywidgets) (0.8.3)\n",
            "Requirement already satisfied: entrypoints in c:\\users\\franz\\.conda\\envs\\tf-gpu\\lib\\site-packages (from jupyter-client<8.0->ipykernel>=4.5.1->ipywidgets) (0.3)\n",
            "Requirement already satisfied: pyzmq>=13 in c:\\users\\franz\\.conda\\envs\\tf-gpu\\lib\\site-packages (from jupyter-client<8.0->ipykernel>=4.5.1->ipywidgets) (22.3.0)\n",
            "Requirement already satisfied: python-dateutil>=2.1 in c:\\users\\franz\\.conda\\envs\\tf-gpu\\lib\\site-packages (from jupyter-client<8.0->ipykernel>=4.5.1->ipywidgets) (2.8.2)\n",
            "Requirement already satisfied: jupyter-core>=4.6.0 in c:\\users\\franz\\.conda\\envs\\tf-gpu\\lib\\site-packages (from jupyter-client<8.0->ipykernel>=4.5.1->ipywidgets) (4.9.1)\n",
            "Requirement already satisfied: pywin32>=1.0 in c:\\users\\franz\\.conda\\envs\\tf-gpu\\lib\\site-packages (from jupyter-core>=4.6.0->jupyter-client<8.0->ipykernel>=4.5.1->ipywidgets) (303)\n",
            "Requirement already satisfied: jsonschema!=2.5.0,>=2.4 in c:\\users\\franz\\.conda\\envs\\tf-gpu\\lib\\site-packages (from nbformat>=4.2.0->ipywidgets) (4.4.0)\n",
            "Requirement already satisfied: attrs>=17.4.0 in c:\\users\\franz\\.conda\\envs\\tf-gpu\\lib\\site-packages (from jsonschema!=2.5.0,>=2.4->nbformat>=4.2.0->ipywidgets) (21.4.0)\n",
            "Requirement already satisfied: pyrsistent!=0.17.0,!=0.17.1,!=0.17.2,>=0.14.0 in c:\\users\\franz\\.conda\\envs\\tf-gpu\\lib\\site-packages (from jsonschema!=2.5.0,>=2.4->nbformat>=4.2.0->ipywidgets) (0.18.1)\n",
            "Requirement already satisfied: wcwidth in c:\\users\\franz\\.conda\\envs\\tf-gpu\\lib\\site-packages (from prompt-toolkit!=3.0.0,!=3.0.1,<3.1.0,>=2.0.0->ipython>=4.0.0->ipywidgets) (0.2.5)\n",
            "Requirement already satisfied: six>=1.5 in c:\\users\\franz\\.conda\\envs\\tf-gpu\\lib\\site-packages (from python-dateutil>=2.1->jupyter-client<8.0->ipykernel>=4.5.1->ipywidgets) (1.16.0)\n",
            "Requirement already satisfied: notebook>=4.4.1 in c:\\users\\franz\\.conda\\envs\\tf-gpu\\lib\\site-packages (from widgetsnbextension~=3.5.0->ipywidgets) (6.4.8)\n",
            "Requirement already satisfied: argon2-cffi in c:\\users\\franz\\.conda\\envs\\tf-gpu\\lib\\site-packages (from notebook>=4.4.1->widgetsnbextension~=3.5.0->ipywidgets) (21.3.0)\n",
            "Requirement already satisfied: Send2Trash>=1.8.0 in c:\\users\\franz\\.conda\\envs\\tf-gpu\\lib\\site-packages (from notebook>=4.4.1->widgetsnbextension~=3.5.0->ipywidgets) (1.8.0)\n",
            "Requirement already satisfied: jinja2 in c:\\users\\franz\\.conda\\envs\\tf-gpu\\lib\\site-packages (from notebook>=4.4.1->widgetsnbextension~=3.5.0->ipywidgets) (3.0.3)\n",
            "Requirement already satisfied: terminado>=0.8.3 in c:\\users\\franz\\.conda\\envs\\tf-gpu\\lib\\site-packages (from notebook>=4.4.1->widgetsnbextension~=3.5.0->ipywidgets) (0.13.1)\n",
            "Requirement already satisfied: nbconvert in c:\\users\\franz\\.conda\\envs\\tf-gpu\\lib\\site-packages (from notebook>=4.4.1->widgetsnbextension~=3.5.0->ipywidgets) (6.4.2)\n",
            "Requirement already satisfied: prometheus-client in c:\\users\\franz\\.conda\\envs\\tf-gpu\\lib\\site-packages (from notebook>=4.4.1->widgetsnbextension~=3.5.0->ipywidgets) (0.13.1)\n",
            "Requirement already satisfied: pywinpty>=1.1.0 in c:\\users\\franz\\.conda\\envs\\tf-gpu\\lib\\site-packages (from terminado>=0.8.3->notebook>=4.4.1->widgetsnbextension~=3.5.0->ipywidgets) (2.0.2)\n",
            "Requirement already satisfied: argon2-cffi-bindings in c:\\users\\franz\\.conda\\envs\\tf-gpu\\lib\\site-packages (from argon2-cffi->notebook>=4.4.1->widgetsnbextension~=3.5.0->ipywidgets) (21.2.0)\n",
            "Requirement already satisfied: cffi>=1.0.1 in c:\\users\\franz\\.conda\\envs\\tf-gpu\\lib\\site-packages (from argon2-cffi-bindings->argon2-cffi->notebook>=4.4.1->widgetsnbextension~=3.5.0->ipywidgets) (1.15.0)\n",
            "Requirement already satisfied: pycparser in c:\\users\\franz\\.conda\\envs\\tf-gpu\\lib\\site-packages (from cffi>=1.0.1->argon2-cffi-bindings->argon2-cffi->notebook>=4.4.1->widgetsnbextension~=3.5.0->ipywidgets) (2.21)\n",
            "Requirement already satisfied: pathspec<1,>=0.9.0 in c:\\users\\franz\\.conda\\envs\\tf-gpu\\lib\\site-packages (from black->ipython>=4.0.0->ipywidgets) (0.9.0)\n",
            "Requirement already satisfied: click>=7.1.2 in c:\\users\\franz\\.conda\\envs\\tf-gpu\\lib\\site-packages (from black->ipython>=4.0.0->ipywidgets) (8.0.3)\n",
            "Requirement already satisfied: platformdirs>=2 in c:\\users\\franz\\.conda\\envs\\tf-gpu\\lib\\site-packages (from black->ipython>=4.0.0->ipywidgets) (2.4.1)\n",
            "Requirement already satisfied: mypy-extensions>=0.4.3 in c:\\users\\franz\\.conda\\envs\\tf-gpu\\lib\\site-packages (from black->ipython>=4.0.0->ipywidgets) (0.4.3)\n",
            "Requirement already satisfied: typing-extensions>=3.10.0.0 in c:\\users\\franz\\.conda\\envs\\tf-gpu\\lib\\site-packages (from black->ipython>=4.0.0->ipywidgets) (3.10.0.2)\n",
            "Requirement already satisfied: tomli<2.0.0,>=0.2.6 in c:\\users\\franz\\.conda\\envs\\tf-gpu\\lib\\site-packages (from black->ipython>=4.0.0->ipywidgets) (1.2.3)\n",
            "Requirement already satisfied: MarkupSafe>=2.0 in c:\\users\\franz\\.conda\\envs\\tf-gpu\\lib\\site-packages (from jinja2->notebook>=4.4.1->widgetsnbextension~=3.5.0->ipywidgets) (2.1.0)\n",
            "Requirement already satisfied: mistune<2,>=0.8.1 in c:\\users\\franz\\.conda\\envs\\tf-gpu\\lib\\site-packages (from nbconvert->notebook>=4.4.1->widgetsnbextension~=3.5.0->ipywidgets) (0.8.4)\n",
            "Requirement already satisfied: testpath in c:\\users\\franz\\.conda\\envs\\tf-gpu\\lib\\site-packages (from nbconvert->notebook>=4.4.1->widgetsnbextension~=3.5.0->ipywidgets) (0.5.0)\n",
            "Requirement already satisfied: pandocfilters>=1.4.1 in c:\\users\\franz\\.conda\\envs\\tf-gpu\\lib\\site-packages (from nbconvert->notebook>=4.4.1->widgetsnbextension~=3.5.0->ipywidgets) (1.5.0)\n",
            "Requirement already satisfied: defusedxml in c:\\users\\franz\\.conda\\envs\\tf-gpu\\lib\\site-packages (from nbconvert->notebook>=4.4.1->widgetsnbextension~=3.5.0->ipywidgets) (0.7.1)\n",
            "Requirement already satisfied: nbclient<0.6.0,>=0.5.0 in c:\\users\\franz\\.conda\\envs\\tf-gpu\\lib\\site-packages (from nbconvert->notebook>=4.4.1->widgetsnbextension~=3.5.0->ipywidgets) (0.5.11)\n",
            "Requirement already satisfied: jupyterlab-pygments in c:\\users\\franz\\.conda\\envs\\tf-gpu\\lib\\site-packages (from nbconvert->notebook>=4.4.1->widgetsnbextension~=3.5.0->ipywidgets) (0.1.2)\n",
            "Requirement already satisfied: bleach in c:\\users\\franz\\.conda\\envs\\tf-gpu\\lib\\site-packages (from nbconvert->notebook>=4.4.1->widgetsnbextension~=3.5.0->ipywidgets) (4.1.0)\n",
            "Requirement already satisfied: packaging in c:\\users\\franz\\.conda\\envs\\tf-gpu\\lib\\site-packages (from bleach->nbconvert->notebook>=4.4.1->widgetsnbextension~=3.5.0->ipywidgets) (21.3)\n",
            "Requirement already satisfied: webencodings in c:\\users\\franz\\.conda\\envs\\tf-gpu\\lib\\site-packages (from bleach->nbconvert->notebook>=4.4.1->widgetsnbextension~=3.5.0->ipywidgets) (0.5.1)\n",
            "Requirement already satisfied: pyparsing!=3.0.5,>=2.0.2 in c:\\users\\franz\\.conda\\envs\\tf-gpu\\lib\\site-packages (from packaging->bleach->nbconvert->notebook>=4.4.1->widgetsnbextension~=3.5.0->ipywidgets) (3.0.7)\n",
            "Requirement already satisfied: asttokens in c:\\users\\franz\\.conda\\envs\\tf-gpu\\lib\\site-packages (from stack-data->ipython>=4.0.0->ipywidgets) (2.0.5)\n",
            "Requirement already satisfied: pure-eval in c:\\users\\franz\\.conda\\envs\\tf-gpu\\lib\\site-packages (from stack-data->ipython>=4.0.0->ipywidgets) (0.2.2)\n",
            "Requirement already satisfied: executing in c:\\users\\franz\\.conda\\envs\\tf-gpu\\lib\\site-packages (from stack-data->ipython>=4.0.0->ipywidgets) (0.8.2)\n",
            "Requirement already satisfied: IPython in c:\\users\\franz\\.conda\\envs\\tf-gpu\\lib\\site-packages (8.0.1)\n",
            "Requirement already satisfied: pygments in c:\\users\\franz\\.conda\\envs\\tf-gpu\\lib\\site-packages (from IPython) (2.11.2)\n",
            "Requirement already satisfied: colorama in c:\\users\\franz\\.conda\\envs\\tf-gpu\\lib\\site-packages (from IPython) (0.4.4)\n",
            "Requirement already satisfied: matplotlib-inline in c:\\users\\franz\\.conda\\envs\\tf-gpu\\lib\\site-packages (from IPython) (0.1.3)\n",
            "Requirement already satisfied: decorator in c:\\users\\franz\\.conda\\envs\\tf-gpu\\lib\\site-packages (from IPython) (5.1.1)\n",
            "Requirement already satisfied: jedi>=0.16 in c:\\users\\franz\\.conda\\envs\\tf-gpu\\lib\\site-packages (from IPython) (0.18.1)\n",
            "Requirement already satisfied: black in c:\\users\\franz\\.conda\\envs\\tf-gpu\\lib\\site-packages (from IPython) (21.12b0)\n",
            "Requirement already satisfied: stack-data in c:\\users\\franz\\.conda\\envs\\tf-gpu\\lib\\site-packages (from IPython) (0.1.4)\n",
            "Requirement already satisfied: traitlets>=5 in c:\\users\\franz\\.conda\\envs\\tf-gpu\\lib\\site-packages (from IPython) (5.1.1)\n",
            "Requirement already satisfied: pickleshare in c:\\users\\franz\\.conda\\envs\\tf-gpu\\lib\\site-packages (from IPython) (0.7.5)\n",
            "Requirement already satisfied: backcall in c:\\users\\franz\\.conda\\envs\\tf-gpu\\lib\\site-packages (from IPython) (0.2.0)\n",
            "Requirement already satisfied: prompt-toolkit!=3.0.0,!=3.0.1,<3.1.0,>=2.0.0 in c:\\users\\franz\\.conda\\envs\\tf-gpu\\lib\\site-packages (from IPython) (3.0.24)\n",
            "Requirement already satisfied: setuptools>=18.5 in c:\\users\\franz\\.conda\\envs\\tf-gpu\\lib\\site-packages (from IPython) (58.0.4)\n",
            "Requirement already satisfied: parso<0.9.0,>=0.8.0 in c:\\users\\franz\\.conda\\envs\\tf-gpu\\lib\\site-packages (from jedi>=0.16->IPython) (0.8.3)\n",
            "Requirement already satisfied: wcwidth in c:\\users\\franz\\.conda\\envs\\tf-gpu\\lib\\site-packages (from prompt-toolkit!=3.0.0,!=3.0.1,<3.1.0,>=2.0.0->IPython) (0.2.5)\n",
            "Requirement already satisfied: pathspec<1,>=0.9.0 in c:\\users\\franz\\.conda\\envs\\tf-gpu\\lib\\site-packages (from black->IPython) (0.9.0)\n",
            "Requirement already satisfied: click>=7.1.2 in c:\\users\\franz\\.conda\\envs\\tf-gpu\\lib\\site-packages (from black->IPython) (8.0.3)\n",
            "Requirement already satisfied: platformdirs>=2 in c:\\users\\franz\\.conda\\envs\\tf-gpu\\lib\\site-packages (from black->IPython) (2.4.1)\n",
            "Requirement already satisfied: typing-extensions>=3.10.0.0 in c:\\users\\franz\\.conda\\envs\\tf-gpu\\lib\\site-packages (from black->IPython) (3.10.0.2)\n",
            "Requirement already satisfied: mypy-extensions>=0.4.3 in c:\\users\\franz\\.conda\\envs\\tf-gpu\\lib\\site-packages (from black->IPython) (0.4.3)\n",
            "Requirement already satisfied: tomli<2.0.0,>=0.2.6 in c:\\users\\franz\\.conda\\envs\\tf-gpu\\lib\\site-packages (from black->IPython) (1.2.3)\n",
            "Requirement already satisfied: pure-eval in c:\\users\\franz\\.conda\\envs\\tf-gpu\\lib\\site-packages (from stack-data->IPython) (0.2.2)\n",
            "Requirement already satisfied: asttokens in c:\\users\\franz\\.conda\\envs\\tf-gpu\\lib\\site-packages (from stack-data->IPython) (2.0.5)\n",
            "Requirement already satisfied: executing in c:\\users\\franz\\.conda\\envs\\tf-gpu\\lib\\site-packages (from stack-data->IPython) (0.8.2)\n",
            "Requirement already satisfied: six in c:\\users\\franz\\.conda\\envs\\tf-gpu\\lib\\site-packages (from asttokens->stack-data->IPython) (1.16.0)\n"
          ]
        }
      ],
      "source": [
        "! pip install ipywidgets\n",
        "! pip install IPython"
      ]
    },
    {
      "cell_type": "code",
      "execution_count": 12,
      "metadata": {
        "colab": {
          "base_uri": "https://localhost:8080/",
          "height": 35
        },
        "id": "oc6uwsTc3rlo",
        "outputId": "cdcb0c98-eb8a-45d5-fa66-2ad428291877"
      },
      "outputs": [],
      "source": [
        "import tensorflow as tf\n",
        "assert tf.__version__  == '2.8.0'"
      ]
    },
    {
      "cell_type": "code",
      "execution_count": 13,
      "metadata": {
        "id": "n-HmiNnY3rlq"
      },
      "outputs": [
        {
          "data": {
            "text/plain": [
              "'2.8.0'"
            ]
          },
          "execution_count": 13,
          "metadata": {},
          "output_type": "execute_result"
        }
      ],
      "source": [
        "import tensorflow as tf\n",
        "from tensorflow import keras\n",
        "from tensorflow.keras import layers\n",
        "import numpy as np\n",
        "import matplotlib.pyplot as plt\n",
        "import os\n",
        "from IPython.display import clear_output\n",
        "from ipywidgets import interact, interactive, fixed, interact_manual\n",
        "import ipywidgets as widgets\n",
        "tf.__version__"
      ]
    },
    {
      "cell_type": "code",
      "execution_count": 14,
      "metadata": {
        "id": "_i8vg7XP52TJ"
      },
      "outputs": [],
      "source": [
        "path = 'model'\n",
        "data_path = \"img/anime_faces\"\n",
        "weights_path = path+'/weights'\n",
        "numpy_path= path+'/np'\n",
        "IMG_SIZE =  (64,64)\n",
        "latent_dim = 100\n",
        "BATCH_SIZE = 128"
      ]
    },
    {
      "cell_type": "code",
      "execution_count": 15,
      "metadata": {
        "colab": {
          "base_uri": "https://localhost:8080/"
        },
        "id": "AuIxNNqO3rlq",
        "outputId": "3435fa8f-369c-4c5a-f917-20fd19f6bfc7"
      },
      "outputs": [
        {
          "name": "stdout",
          "output_type": "stream",
          "text": [
            "Found 0 files belonging to 1 classes.\n"
          ]
        },
        {
          "ename": "ValueError",
          "evalue": "No images found in directory img/anime_faces. Allowed formats: ('.bmp', '.gif', '.jpeg', '.jpg', '.png')",
          "output_type": "error",
          "traceback": [
            "\u001b[1;31m---------------------------------------------------------------------------\u001b[0m",
            "\u001b[1;31mValueError\u001b[0m                                Traceback (most recent call last)",
            "\u001b[1;32mc:\\Users\\franz\\OneDrive\\Documentos\\GitHub\\Waifu_generator\\waifu_generator.ipynb Cell 5'\u001b[0m in \u001b[0;36m<module>\u001b[1;34m\u001b[0m\n\u001b[1;32m----> <a href='vscode-notebook-cell:/c%3A/Users/franz/OneDrive/Documentos/GitHub/Waifu_generator/waifu_generator.ipynb#ch0000004?line=0'>1</a>\u001b[0m dataset \u001b[39m=\u001b[39m keras\u001b[39m.\u001b[39;49mpreprocessing\u001b[39m.\u001b[39;49mimage_dataset_from_directory(\n\u001b[0;32m      <a href='vscode-notebook-cell:/c%3A/Users/franz/OneDrive/Documentos/GitHub/Waifu_generator/waifu_generator.ipynb#ch0000004?line=1'>2</a>\u001b[0m   data_path , label_mode\u001b[39m=\u001b[39;49m\u001b[39mNone\u001b[39;49;00m, image_size\u001b[39m=\u001b[39;49mIMG_SIZE, batch_size\u001b[39m=\u001b[39;49mBATCH_SIZE\n\u001b[0;32m      <a href='vscode-notebook-cell:/c%3A/Users/franz/OneDrive/Documentos/GitHub/Waifu_generator/waifu_generator.ipynb#ch0000004?line=2'>3</a>\u001b[0m )\n\u001b[0;32m      <a href='vscode-notebook-cell:/c%3A/Users/franz/OneDrive/Documentos/GitHub/Waifu_generator/waifu_generator.ipynb#ch0000004?line=3'>4</a>\u001b[0m dataset \u001b[39m=\u001b[39m dataset\u001b[39m.\u001b[39mmap(\u001b[39mlambda\u001b[39;00m x: x \u001b[39m/\u001b[39m \u001b[39m255.0\u001b[39m)\n",
            "File \u001b[1;32m~\\.conda\\envs\\tf-gpu\\lib\\site-packages\\keras\\preprocessing\\image_dataset.py:209\u001b[0m, in \u001b[0;36mimage_dataset_from_directory\u001b[1;34m(directory, labels, label_mode, class_names, color_mode, batch_size, image_size, shuffle, seed, validation_split, subset, interpolation, follow_links, crop_to_aspect_ratio, **kwargs)\u001b[0m\n\u001b[0;32m    <a href='file:///~/.conda/envs/tf-gpu/lib/site-packages/keras/preprocessing/image_dataset.py?line=205'>206</a>\u001b[0m image_paths, labels \u001b[39m=\u001b[39m dataset_utils\u001b[39m.\u001b[39mget_training_or_validation_split(\n\u001b[0;32m    <a href='file:///~/.conda/envs/tf-gpu/lib/site-packages/keras/preprocessing/image_dataset.py?line=206'>207</a>\u001b[0m     image_paths, labels, validation_split, subset)\n\u001b[0;32m    <a href='file:///~/.conda/envs/tf-gpu/lib/site-packages/keras/preprocessing/image_dataset.py?line=207'>208</a>\u001b[0m \u001b[39mif\u001b[39;00m \u001b[39mnot\u001b[39;00m image_paths:\n\u001b[1;32m--> <a href='file:///~/.conda/envs/tf-gpu/lib/site-packages/keras/preprocessing/image_dataset.py?line=208'>209</a>\u001b[0m   \u001b[39mraise\u001b[39;00m \u001b[39mValueError\u001b[39;00m(\u001b[39mf\u001b[39m\u001b[39m'\u001b[39m\u001b[39mNo images found in directory \u001b[39m\u001b[39m{\u001b[39;00mdirectory\u001b[39m}\u001b[39;00m\u001b[39m. \u001b[39m\u001b[39m'\u001b[39m\n\u001b[0;32m    <a href='file:///~/.conda/envs/tf-gpu/lib/site-packages/keras/preprocessing/image_dataset.py?line=209'>210</a>\u001b[0m                    \u001b[39mf\u001b[39m\u001b[39m'\u001b[39m\u001b[39mAllowed formats: \u001b[39m\u001b[39m{\u001b[39;00mALLOWLIST_FORMATS\u001b[39m}\u001b[39;00m\u001b[39m'\u001b[39m)\n\u001b[0;32m    <a href='file:///~/.conda/envs/tf-gpu/lib/site-packages/keras/preprocessing/image_dataset.py?line=211'>212</a>\u001b[0m dataset \u001b[39m=\u001b[39m paths_and_labels_to_dataset(\n\u001b[0;32m    <a href='file:///~/.conda/envs/tf-gpu/lib/site-packages/keras/preprocessing/image_dataset.py?line=212'>213</a>\u001b[0m     image_paths\u001b[39m=\u001b[39mimage_paths,\n\u001b[0;32m    <a href='file:///~/.conda/envs/tf-gpu/lib/site-packages/keras/preprocessing/image_dataset.py?line=213'>214</a>\u001b[0m     image_size\u001b[39m=\u001b[39mimage_size,\n\u001b[1;32m   (...)\u001b[0m\n\u001b[0;32m    <a href='file:///~/.conda/envs/tf-gpu/lib/site-packages/keras/preprocessing/image_dataset.py?line=218'>219</a>\u001b[0m     interpolation\u001b[39m=\u001b[39minterpolation,\n\u001b[0;32m    <a href='file:///~/.conda/envs/tf-gpu/lib/site-packages/keras/preprocessing/image_dataset.py?line=219'>220</a>\u001b[0m     crop_to_aspect_ratio\u001b[39m=\u001b[39mcrop_to_aspect_ratio)\n\u001b[0;32m    <a href='file:///~/.conda/envs/tf-gpu/lib/site-packages/keras/preprocessing/image_dataset.py?line=220'>221</a>\u001b[0m dataset \u001b[39m=\u001b[39m dataset\u001b[39m.\u001b[39mprefetch(tf\u001b[39m.\u001b[39mdata\u001b[39m.\u001b[39mAUTOTUNE)\n",
            "\u001b[1;31mValueError\u001b[0m: No images found in directory img/anime_faces. Allowed formats: ('.bmp', '.gif', '.jpeg', '.jpg', '.png')"
          ]
        }
      ],
      "source": [
        "dataset = keras.preprocessing.image_dataset_from_directory(\n",
        "  data_path , label_mode=None, image_size=IMG_SIZE, batch_size=BATCH_SIZE\n",
        ")\n",
        "dataset = dataset.map(lambda x: x / 255.0)\n"
      ]
    },
    {
      "cell_type": "code",
      "execution_count": 16,
      "metadata": {
        "colab": {
          "base_uri": "https://localhost:8080/",
          "height": 265
        },
        "id": "FsX7zHBI3rlr",
        "outputId": "88d7959a-4f9b-4b52-ed09-43191d6522c8"
      },
      "outputs": [
        {
          "ename": "NameError",
          "evalue": "name 'dataset' is not defined",
          "output_type": "error",
          "traceback": [
            "\u001b[1;31m---------------------------------------------------------------------------\u001b[0m",
            "\u001b[1;31mNameError\u001b[0m                                 Traceback (most recent call last)",
            "\u001b[1;32mc:\\Users\\franz\\OneDrive\\Documentos\\GitHub\\Waifu_generator\\waifu_generator.ipynb Cell 6'\u001b[0m in \u001b[0;36m<module>\u001b[1;34m\u001b[0m\n\u001b[1;32m----> <a href='vscode-notebook-cell:/c%3A/Users/franz/OneDrive/Documentos/GitHub/Waifu_generator/waifu_generator.ipynb#ch0000005?line=0'>1</a>\u001b[0m \u001b[39mfor\u001b[39;00m x \u001b[39min\u001b[39;00m dataset:\n\u001b[0;32m      <a href='vscode-notebook-cell:/c%3A/Users/franz/OneDrive/Documentos/GitHub/Waifu_generator/waifu_generator.ipynb#ch0000005?line=1'>2</a>\u001b[0m     plt\u001b[39m.\u001b[39maxis(\u001b[39m\"\u001b[39m\u001b[39moff\u001b[39m\u001b[39m\"\u001b[39m)\n\u001b[0;32m      <a href='vscode-notebook-cell:/c%3A/Users/franz/OneDrive/Documentos/GitHub/Waifu_generator/waifu_generator.ipynb#ch0000005?line=2'>3</a>\u001b[0m     plt\u001b[39m.\u001b[39mimshow((x\u001b[39m.\u001b[39mnumpy() \u001b[39m*\u001b[39m \u001b[39m255\u001b[39m)\u001b[39m.\u001b[39mastype(\u001b[39m\"\u001b[39m\u001b[39mint32\u001b[39m\u001b[39m\"\u001b[39m)[\u001b[39m0\u001b[39m])\n",
            "\u001b[1;31mNameError\u001b[0m: name 'dataset' is not defined"
          ]
        }
      ],
      "source": [
        "for x in dataset:\n",
        "    plt.axis(\"off\")\n",
        "    plt.imshow((x.numpy() * 255).astype(\"int32\")[0])\n",
        "    print(x.shape)\n",
        "    break"
      ]
    },
    {
      "cell_type": "code",
      "execution_count": 17,
      "metadata": {
        "colab": {
          "base_uri": "https://localhost:8080/"
        },
        "id": "9rOo5zYy3rlr",
        "outputId": "b4b20a55-7a10-4e19-9856-a24b75d22c89"
      },
      "outputs": [
        {
          "name": "stdout",
          "output_type": "stream",
          "text": [
            "Model: \"sequential\"\n",
            "_________________________________________________________________\n",
            " Layer (type)                Output Shape              Param #   \n",
            "=================================================================\n",
            " conv2d (Conv2D)             (None, 32, 32, 64)        1728      \n",
            "                                                                 \n",
            " leaky_re_lu (LeakyReLU)     (None, 32, 32, 64)        0         \n",
            "                                                                 \n",
            " conv2d_1 (Conv2D)           (None, 16, 16, 128)       73728     \n",
            "                                                                 \n",
            " batch_normalization (BatchN  (None, 16, 16, 128)      512       \n",
            " ormalization)                                                   \n",
            "                                                                 \n",
            " leaky_re_lu_1 (LeakyReLU)   (None, 16, 16, 128)       0         \n",
            "                                                                 \n",
            " conv2d_2 (Conv2D)           (None, 8, 8, 256)         819200    \n",
            "                                                                 \n",
            " batch_normalization_1 (Batc  (None, 8, 8, 256)        1024      \n",
            " hNormalization)                                                 \n",
            "                                                                 \n",
            " leaky_re_lu_2 (LeakyReLU)   (None, 8, 8, 256)         0         \n",
            "                                                                 \n",
            " conv2d_3 (Conv2D)           (None, 4, 4, 512)         3276800   \n",
            "                                                                 \n",
            " batch_normalization_2 (Batc  (None, 4, 4, 512)        2048      \n",
            " hNormalization)                                                 \n",
            "                                                                 \n",
            " leaky_re_lu_3 (LeakyReLU)   (None, 4, 4, 512)         0         \n",
            "                                                                 \n",
            " conv2d_4 (Conv2D)           (None, 1, 1, 1)           8192      \n",
            "                                                                 \n",
            " flatten (Flatten)           (None, 1)                 0         \n",
            "                                                                 \n",
            " activation (Activation)     (None, 1)                 0         \n",
            "                                                                 \n",
            "=================================================================\n",
            "Total params: 4,183,232\n",
            "Trainable params: 4,181,440\n",
            "Non-trainable params: 1,792\n",
            "_________________________________________________________________\n"
          ]
        }
      ],
      "source": [
        "def discriminator():\n",
        "    init = tf.keras.initializers.RandomNormal(stddev=0.02)\n",
        "\n",
        "    model = keras.models.Sequential()\n",
        "  \n",
        "\n",
        "    model.add(layers.Conv2D(64,kernel_size=3,strides=2,padding='same',use_bias=False,input_shape=(IMG_SIZE[0],IMG_SIZE[1],3),kernel_initializer=init))\n",
        "    model.add(layers.LeakyReLU(alpha=0.2)) \n",
        "\n",
        "    model.add(layers.Conv2D(128,kernel_size=3,strides=2,padding='same',use_bias=False,kernel_initializer=init))\n",
        "    model.add(layers.BatchNormalization())\n",
        "    model.add(layers.LeakyReLU(alpha=0.2)) \n",
        "\n",
        "    model.add(layers.Conv2D(256,kernel_size=5,strides=2,padding='same',use_bias=False,kernel_initializer=init))\n",
        "    model.add(layers.BatchNormalization())\n",
        "    model.add(layers.LeakyReLU(alpha=0.2))\n",
        "\n",
        "    model.add(layers.Conv2D(512,kernel_size=5,strides=2,padding='same',use_bias=False,kernel_initializer=init))\n",
        "    model.add(layers.BatchNormalization())\n",
        "    model.add(layers.LeakyReLU(alpha=0.2)) \n",
        "    \n",
        "    model.add(layers.Conv2D(1,kernel_size=4,strides=1,padding='valid',use_bias=False,kernel_initializer=init))\n",
        "    model.add(layers.Flatten())\n",
        "    model.add(layers.Activation('sigmoid'))\n",
        "    return model\n",
        "discriminator = discriminator()\n",
        "discriminator.summary()"
      ]
    },
    {
      "cell_type": "code",
      "execution_count": 18,
      "metadata": {
        "colab": {
          "base_uri": "https://localhost:8080/"
        },
        "id": "z_mste_43rls",
        "outputId": "e3df3669-e9b1-44ae-c3cd-888a40215cff"
      },
      "outputs": [
        {
          "name": "stdout",
          "output_type": "stream",
          "text": [
            "Model: \"sequential_1\"\n",
            "_________________________________________________________________\n",
            " Layer (type)                Output Shape              Param #   \n",
            "=================================================================\n",
            " dense (Dense)               (None, 16384)             1654784   \n",
            "                                                                 \n",
            " batch_normalization_3 (Batc  (None, 16384)            65536     \n",
            " hNormalization)                                                 \n",
            "                                                                 \n",
            " re_lu (ReLU)                (None, 16384)             0         \n",
            "                                                                 \n",
            " reshape (Reshape)           (None, 4, 4, 1024)        0         \n",
            "                                                                 \n",
            " conv2d_transpose (Conv2DTra  (None, 8, 8, 512)        13107200  \n",
            " nspose)                                                         \n",
            "                                                                 \n",
            " batch_normalization_4 (Batc  (None, 8, 8, 512)        2048      \n",
            " hNormalization)                                                 \n",
            "                                                                 \n",
            " re_lu_1 (ReLU)              (None, 8, 8, 512)         0         \n",
            "                                                                 \n",
            " conv2d_transpose_1 (Conv2DT  (None, 16, 16, 256)      3276800   \n",
            " ranspose)                                                       \n",
            "                                                                 \n",
            " batch_normalization_5 (Batc  (None, 16, 16, 256)      1024      \n",
            " hNormalization)                                                 \n",
            "                                                                 \n",
            " re_lu_2 (ReLU)              (None, 16, 16, 256)       0         \n",
            "                                                                 \n",
            " conv2d_transpose_2 (Conv2DT  (None, 32, 32, 128)      294912    \n",
            " ranspose)                                                       \n",
            "                                                                 \n",
            " batch_normalization_6 (Batc  (None, 32, 32, 128)      512       \n",
            " hNormalization)                                                 \n",
            "                                                                 \n",
            " re_lu_3 (ReLU)              (None, 32, 32, 128)       0         \n",
            "                                                                 \n",
            " conv2d_transpose_3 (Conv2DT  (None, 64, 64, 3)        3456      \n",
            " ranspose)                                                       \n",
            "                                                                 \n",
            " activation_1 (Activation)   (None, 64, 64, 3)         0         \n",
            "                                                                 \n",
            "=================================================================\n",
            "Total params: 18,406,272\n",
            "Trainable params: 18,371,712\n",
            "Non-trainable params: 34,560\n",
            "_________________________________________________________________\n"
          ]
        }
      ],
      "source": [
        "def generator():\n",
        "    init = tf.keras.initializers.RandomNormal(stddev=0.02)\n",
        "\n",
        "    model = keras.models.Sequential()\n",
        "  \n",
        "    model.add(layers.Dense(4*4*1024,kernel_initializer=init,input_dim=latent_dim))\n",
        "    model.add(layers.BatchNormalization())\n",
        "    model.add(layers.ReLU())\n",
        "    model.add(layers.Reshape((4,4,1024))) \n",
        "\n",
        "   \n",
        "    model.add(layers.Conv2DTranspose(512,kernel_size=5,strides=2,padding='same',use_bias=False,kernel_initializer=init))\n",
        "    model.add(layers.BatchNormalization())\n",
        "    model.add(layers.ReLU())  \n",
        "   \n",
        "    model.add(layers.Conv2DTranspose(256,kernel_size=5,strides=2,padding='same',use_bias=False,kernel_initializer=init))\n",
        "    model.add(layers.BatchNormalization())\n",
        "    model.add(layers.ReLU()) \n",
        "   \n",
        "    model.add(layers.Conv2DTranspose(128,kernel_size=3,strides=2,padding='same',use_bias=False,kernel_initializer=init))\n",
        "    model.add(layers.BatchNormalization())\n",
        "    model.add(layers.ReLU()) \n",
        "\n",
        "    model.add(layers.Conv2DTranspose(3,kernel_size=3,strides=2,padding='same',use_bias=False,kernel_initializer=init))\n",
        "    model.add(layers.Activation('tanh')) \n",
        "    return model\n",
        "generator = generator()\n",
        "generator.summary()"
      ]
    },
    {
      "cell_type": "code",
      "execution_count": 19,
      "metadata": {
        "id": "O0opsFYj3rlt"
      },
      "outputs": [],
      "source": [
        "class GAN(keras.Model):\n",
        "    def __init__(self, discriminator, generator, latent_dim):\n",
        "        super(GAN, self).__init__()\n",
        "        self.discriminator = discriminator\n",
        "        self.generator = generator\n",
        "        self.latent_dim = latent_dim\n",
        "        \n",
        "\n",
        "    def compile(self, d_optimizer, g_optimizer, loss_fn):\n",
        "        super(GAN, self).compile()\n",
        "        self.d_optimizer = d_optimizer\n",
        "        self.g_optimizer = g_optimizer\n",
        "        self.loss_fn = loss_fn\n",
        "        self.d_loss_metric = keras.metrics.Mean(name=\"d_loss\")\n",
        "        self.g_loss_metric = keras.metrics.Mean(name=\"g_loss\")\n",
        "\n",
        "    @property\n",
        "    def metrics(self):\n",
        "        return [self.d_loss_metric, self.g_loss_metric]\n",
        "\n",
        "    def train_step(self, real_images):\n",
        "        \n",
        "        batch_size = tf.shape(real_images)[0]\n",
        "        noise = tf.random.normal(shape=(batch_size, self.latent_dim))\n",
        "\n",
        "        \n",
        "        with tf.GradientTape() as disc_tape1:\n",
        "            generated_images = self.generator(noise, training=True)\n",
        "\n",
        "            real_output = self.discriminator(real_images, training=True)\n",
        "            real_targets = tf.ones_like(real_output)\n",
        "            d_loss = self.loss_fn(real_targets, real_output)\n",
        "\n",
        "        gradients_of_disc1 = disc_tape1.gradient(d_loss, self.discriminator.trainable_variables)\n",
        "        self.d_optimizer.apply_gradients(zip(gradients_of_disc1,self.discriminator.trainable_variables))\n",
        "            \n",
        "      \n",
        "        with tf.GradientTape() as disc_tape2:\n",
        "            fake_output = self.discriminator(generated_images, training=True)\n",
        "            fake_targets = tf.zeros_like(fake_output)\n",
        "            disc_loss2 = self.loss_fn(fake_targets, fake_output)\n",
        "        gradients_of_disc2 = disc_tape2.gradient(disc_loss2, self.discriminator.trainable_variables)\n",
        "        self.d_optimizer.apply_gradients(zip(gradients_of_disc2,self.discriminator.trainable_variables))\n",
        "\n",
        "\n",
        "        with tf.GradientTape() as gen_tape:\n",
        "            generated_images = self.generator(noise, training=True)\n",
        "            fake_output = self.discriminator(generated_images, training=True)\n",
        "            real_targets = tf.ones_like(fake_output)\n",
        "            gen_loss = self.loss_fn(real_targets, fake_output)\n",
        "\n",
        "        gradients_of_gen = gen_tape.gradient(gen_loss, self.generator.trainable_variables)\n",
        "        self.g_optimizer.apply_gradients(zip(gradients_of_gen,self.generator.trainable_variables)) \n",
        "\n",
        "        self.d_loss_metric.update_state(d_loss)\n",
        "        self.g_loss_metric.update_state(gen_loss)\n",
        "        return {\n",
        "            \"d_loss\": self.d_loss_metric.result(),\n",
        "            \"g_loss\": self.g_loss_metric.result(),\n",
        "        }"
      ]
    },
    {
      "cell_type": "code",
      "execution_count": 20,
      "metadata": {
        "id": "AUbyezGK3rlu"
      },
      "outputs": [],
      "source": [
        "class GANMonitor(keras.callbacks.Callback):\n",
        "    def __init__(self, num_img=3, latent_dim=100,path='generadas',test_vector=None):\n",
        "        self.num_img = num_img\n",
        "        self.latent_dim = latent_dim\n",
        "        self.path = path\n",
        "        \n",
        "\n",
        "        if not os.path.exists(path):\n",
        "            os.makedirs(path)\n",
        "        if not os.path.exists(path+'/img'):\n",
        "            os.makedirs(path+'/img')\n",
        "        if not os.path.exists(path+'/weights_auto_save'):\n",
        "            os.makedirs(path+'/weights_auto_save')\n",
        "        if not os.path.exists(path+'/np'):\n",
        "            os.makedirs(path+'/np')\n",
        "            \n",
        "        if  test_vector is None :\n",
        "            self.random_latent_vectors = tf.random.normal(shape=(self.num_img, self.latent_dim))\n",
        "            np.save(path+'/np/origen',self.random_latent_vectors )\n",
        "        else :\n",
        "            self.random_latent_vectors = test_vector\n",
        "    def on_epoch_end(self, epoch, logs=None):\n",
        "        clear_output(wait=True)\n",
        "        if(epoch%10==0):\n",
        "            self.model.save_weights(f'{self.path}/weights_auto_save/{epoch}', save_format='tf')\n",
        "       \n",
        "        generated_images = self.model.generator(self.random_latent_vectors)\n",
        "        generated_images *= 255\n",
        "        generated_images.numpy()\n",
        "        for i in range(self.num_img):\n",
        "            img = keras.preprocessing.image.array_to_img(generated_images[i])\n",
        "            plt.imshow((generated_images[i].numpy()).astype(\"int32\"))\n",
        "        img.save(f'{self.path}/img/generated_img_{epoch}_{i}.png')\n",
        "        plt.show()\n",
        "            \n",
        "            "
      ]
    },
    {
      "cell_type": "code",
      "execution_count": 21,
      "metadata": {
        "colab": {
          "base_uri": "https://localhost:8080/"
        },
        "id": "3AhjV0T_3rlu",
        "outputId": "a5cc1c5b-337d-4471-e96a-a1ab97062a9c"
      },
      "outputs": [
        {
          "name": "stderr",
          "output_type": "stream",
          "text": [
            "C:\\Users\\franz\\.conda\\envs\\tf-gpu\\lib\\site-packages\\keras\\optimizer_v2\\adam.py:105: UserWarning: The `lr` argument is deprecated, use `learning_rate` instead.\n",
            "  super(Adam, self).__init__(name, **kwargs)\n"
          ]
        }
      ],
      "source": [
        "epochs = 100 \n",
        "\n",
        "gan = GAN(discriminator=discriminator, generator=generator, latent_dim=latent_dim)\n",
        "gan.compile(\n",
        "    d_optimizer=tf.keras.optimizers.Adam(lr = 0.0002, beta_1 = 0.5, beta_2 = 0.999 ),\n",
        "    g_optimizer=tf.keras.optimizers.Adam(lr = 0.0002, beta_1 = 0.5, beta_2 = 0.999 ),\n",
        "    loss_fn=keras.losses.BinaryCrossentropy(),\n",
        ")"
      ]
    },
    {
      "cell_type": "code",
      "execution_count": 22,
      "metadata": {
        "colab": {
          "base_uri": "https://localhost:8080/",
          "height": 311
        },
        "id": "yoQrXoGd3rlu",
        "outputId": "eea8d60d-9b3b-4291-cb6b-953a9066633c"
      },
      "outputs": [
        {
          "data": {
            "text/plain": [
              "<tensorflow.python.training.tracking.util.CheckpointLoadStatus at 0x1884f5991c0>"
            ]
          },
          "execution_count": 22,
          "metadata": {},
          "output_type": "execute_result"
        }
      ],
      "source": [
        "gan.load_weights(weights_path+'/final')"
      ]
    },
    {
      "cell_type": "code",
      "execution_count": null,
      "metadata": {
        "colab": {
          "base_uri": "https://localhost:8080/",
          "height": 337
        },
        "id": "CGYGTWXi3rlv",
        "outputId": "0558b7d5-0dfd-477b-e5b1-866de9c4a249"
      },
      "outputs": [],
      "source": [
        "training = gan.fit(\n",
        "    dataset, epochs=epochs, callbacks=GANMonitor(1, path = path) \n",
        ")"
      ]
    },
    {
      "cell_type": "code",
      "execution_count": 61,
      "metadata": {
        "id": "0QPNo21R3rlv"
      },
      "outputs": [
        {
          "data": {
            "text/plain": [
              "<matplotlib.image.AxesImage at 0x18a4b4cd5e0>"
            ]
          },
          "execution_count": 61,
          "metadata": {},
          "output_type": "execute_result"
        },
        {
          "data": {
            "image/png": "[encoded data removed]",
            "text/plain": [
              "<Figure size 432x288 with 1 Axes>"
            ]
          },
          "metadata": {
            "needs_background": "light"
          },
          "output_type": "display_data"
        }
      ],
      "source": [
        "test_vect =  tf.random.normal(shape=(2, latent_dim))\n",
        "test = generator.predict(test_vect)\n",
        "plt.imshow(test[0])\n"
      ]
    },
    {
      "cell_type": "code",
      "execution_count": null,
      "metadata": {},
      "outputs": [],
      "source": [
        "np.save(numpy_path+'/t1',test_vect[0])"
      ]
    },
    {
      "cell_type": "code",
      "execution_count": null,
      "metadata": {
        "id": "y2zjFEML3rlv"
      },
      "outputs": [],
      "source": [
        "gan.save_weights(path+'/weights_auto_save/final', save_format='tf')"
      ]
    }
  ],
  "metadata": {
    "accelerator": "GPU",
    "colab": {
      "collapsed_sections": [],
      "name": "SIMPLE_DCGAN",
      "provenance": []
    },
    "interpreter": {
      "hash": "3af8d5c17c834a5715d68deec2bf9936116d60d2d90b474f74600ac6ca4ca936"
    },
    "kernelspec": {
      "display_name": "Python 3.10.1 64-bit",
      "language": "python",
      "name": "python3"
    },
    "language_info": {
      "codemirror_mode": {
        "name": "ipython",
        "version": 3
      },
      "file_extension": ".py",
      "mimetype": "text/x-python",
      "name": "python",
      "nbconvert_exporter": "python",
      "pygments_lexer": "ipython3",
      "version": "3.9.7"
    },
    "orig_nbformat": 4
  },
  "nbformat": 4,
  "nbformat_minor": 0
}
